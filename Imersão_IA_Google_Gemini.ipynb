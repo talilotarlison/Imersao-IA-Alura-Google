{
  "cells": [
    {
      "cell_type": "markdown",
      "metadata": {
        "id": "view-in-github",
        "colab_type": "text"
      },
      "source": [
        "<a href=\"https://colab.research.google.com/github/talilotarlison/Imersao-IA-Alura-Google/blob/main/Imers%C3%A3o_IA_Google_Gemini.ipynb\" target=\"_parent\"><img src=\"https://colab.research.google.com/assets/colab-badge.svg\" alt=\"Open In Colab\"/></a>"
      ]
    },
    {
      "cell_type": "markdown",
      "metadata": {
        "id": "rGk22adI6z2d"
      },
      "source": [
        "Projeto Imersão IA Google Gemini"
      ]
    },
    {
      "cell_type": "code",
      "execution_count": null,
      "metadata": {
        "id": "DmJ4t_4e6lAW"
      },
      "outputs": [],
      "source": [
        "# Link da documetentação biblioteca\n",
        "#https://pypi.org/project/requests/\n",
        "#https://docs.python.org/pt-br/3/library/random.html\n",
        "\n",
        "# link api do projeto\n",
        "#https://raw.githubusercontent.com/guilhermeonrails/api-imersao-ia/main/words.json\n",
        "\n",
        "\n",
        "import random\n",
        "# importe biblioteca\n",
        "import requests\n",
        "url = 'https://raw.githubusercontent.com/guilhermeonrails/api-imersao-ia/main/words.json'\n",
        "dados = requests.get(url)\n",
        "status = dados.status_code\n",
        "print(status)"
      ]
    },
    {
      "cell_type": "code",
      "execution_count": null,
      "metadata": {
        "id": "X7rBNCxM7mbS"
      },
      "outputs": [],
      "source": [
        "# pegando dados da api em formato json\n",
        "\n",
        "data = dados.json()\n",
        "print(data)"
      ]
    },
    {
      "cell_type": "code",
      "execution_count": null,
      "metadata": {
        "id": "7Q7kIwhM71nf"
      },
      "outputs": [],
      "source": [
        "tamanho = len(data)\n",
        "print(tamanho)\n",
        "# tamanho dos dados json\n",
        "#https://pypi.org/project/requests/"
      ]
    },
    {
      "cell_type": "code",
      "execution_count": null,
      "metadata": {
        "id": "YwzoIRCs87Lc"
      },
      "outputs": [],
      "source": [
        "# ver formato do dados\n",
        "tipo = type(data)\n",
        "print(tipo)"
      ]
    },
    {
      "cell_type": "code",
      "execution_count": null,
      "metadata": {
        "id": "AWgGQePj8d5P"
      },
      "outputs": [],
      "source": [
        "# acessando dados json\n",
        "#primeiro\n",
        "print(data[0])"
      ]
    },
    {
      "cell_type": "code",
      "execution_count": null,
      "metadata": {
        "id": "AdDS7DNa9a7x"
      },
      "outputs": [],
      "source": [
        "#ultimo\n",
        "print(data[-1])"
      ]
    },
    {
      "cell_type": "code",
      "execution_count": null,
      "metadata": {
        "colab": {
          "background_save": true,
          "base_uri": "https://localhost:8080/"
        },
        "id": "Ut-k69JP9p_C",
        "outputId": "3efb7511-23d2-49ff-f56e-a126b55443c1"
      },
      "outputs": [
        {
          "name": "stdout",
          "output_type": "stream",
          "text": [
            "A linguagem secreta tem 7 letras - > desenvolver e treinar modelos de aprendizado profundo.\n"
          ]
        }
      ],
      "source": [
        "valor_secreto = random.choice(data)\n",
        "tamanho = len(valor_secreto[\"palavra\"])\n",
        "dica_secreta = valor_secreto[\"dica\"]\n",
        "print(f'A linguagem secreta tem {tamanho} letras - > {dica_secreta}')\n",
        "\n",
        "#verificar se usuario acertou\n",
        "\n",
        "escolha = input('Qual linguem você chutaria:')\n",
        "if escolha == valor_secreto[\"palavra\"]:\n",
        "  print(f'Você acertou, a linguegem é {valor_secreto[\"palavra\"]:}')\n",
        "else:\n",
        "   print(f'Você errou, a linguem é {valor_secreto[\"palavra\"]}')"
      ]
    }
  ],
  "metadata": {
    "colab": {
      "provenance": [],
      "authorship_tag": "ABX9TyMy5KTGeHlBoV3Y5D+sJDWm",
      "include_colab_link": true
    },
    "kernelspec": {
      "display_name": "Python 3",
      "name": "python3"
    },
    "language_info": {
      "name": "python"
    }
  },
  "nbformat": 4,
  "nbformat_minor": 0
}