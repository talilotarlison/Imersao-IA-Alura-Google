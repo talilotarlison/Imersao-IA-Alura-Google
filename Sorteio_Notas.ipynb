{
  "nbformat": 4,
  "nbformat_minor": 0,
  "metadata": {
    "colab": {
      "provenance": [],
      "authorship_tag": "ABX9TyMs+oAAP7QY+42C3mWMTwm8",
      "include_colab_link": true
    },
    "kernelspec": {
      "name": "python3",
      "display_name": "Python 3"
    },
    "language_info": {
      "name": "python"
    }
  },
  "cells": [
    {
      "cell_type": "markdown",
      "metadata": {
        "id": "view-in-github",
        "colab_type": "text"
      },
      "source": [
        "<a href=\"https://colab.research.google.com/github/talilotarlison/Imersao-IA-Alura-Google/blob/main/Sorteio_Notas.ipynb\" target=\"_parent\"><img src=\"https://colab.research.google.com/assets/colab-badge.svg\" alt=\"Open In Colab\"/></a>"
      ]
    },
    {
      "cell_type": "code",
      "execution_count": null,
      "metadata": {
        "colab": {
          "base_uri": "https://localhost:8080/"
        },
        "id": "yX3-Qvh3_v7v",
        "outputId": "6c9c1fc3-c683-45e3-888c-4eaffe6d9de3"
      },
      "outputs": [
        {
          "output_type": "stream",
          "name": "stdout",
          "text": [
            "Nome: Larissa, Idade: 16, Média: 8.99\n"
          ]
        }
      ],
      "source": [
        "import random\n",
        "\n",
        "# Lista de nomes fictícios para os alunos\n",
        "nomes_alunos = [\"Pedro\", \"Ana\", \"Lucas\", \"Carla\", \"Rafael\", \"Juliana\", \"Marcos\", \"Isabela\", \"Gustavo\", \"Larissa\"]\n",
        "notas = []\n",
        "# Crie notas aleatórias para 10 alunos\n",
        "for i in range(10):\n",
        "    nome_aluno = random.choice(nomes_alunos)\n",
        "    idade_aluno = random.randint(10, 18)  # Idade entre 10 e 18 anos\n",
        "    media_aluno = round(random.uniform(5, 10), 2)  # Média entre 5 e 10 (com 2 casas decimais)\n",
        "\n",
        "    notas.append({\"nome\": nome_aluno, \"idade\": idade_aluno, \"media\": media_aluno})\n",
        "\n",
        "# Exemplo de acesso aos dados de um aluno específico:\n",
        "primeiro_aluno = notas[2]  # Índice 2 representa o terceiro aluno (índices começam em 0)\n",
        "print(f\"Nome: {primeiro_aluno['nome']}, Idade: {primeiro_aluno['idade']}, Média: {primeiro_aluno['media']}\")"
      ]
    }
  ]
}